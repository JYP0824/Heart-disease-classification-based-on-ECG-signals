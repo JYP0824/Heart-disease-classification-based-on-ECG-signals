{
 "cells": [
  {
   "cell_type": "code",
   "execution_count": 59,
   "metadata": {
    "id": "OCy7k6P7XHM6"
   },
   "outputs": [],
   "source": [
    "import numpy as np\n",
    "import wfdb\n",
    "import glob\n",
    "import matplotlib.pyplot as plt\n",
    "from matplotlib.image import imread\n",
    "import pywt\n",
    "import pywt.data\n",
    "import os\n",
    "from pathlib import Path\n",
    "from PIL import Image,ImageEnhance\n",
    "from scipy import fftpack\n",
    "import shutil\n",
    "import pandas as pd\n",
    "import random\n",
    "import scipy.signal as signal\n",
    "from wfdb import processing\n",
    "from itertools import combinations\n",
    "import ast\n",
    "import wfdb\n",
    "#from scipy.signal.filter_design import zpk2sos"
   ]
  },
  {
   "cell_type": "markdown",
   "metadata": {
    "id": "3aRfRcqshbMD"
   },
   "source": [
    "Extract Lead v1 from the 12-Leads ECG Dataset"
   ]
  },
  {
   "cell_type": "markdown",
   "metadata": {},
   "source": [
    "### 먼저 모든 데이터 한 파일에 몰아넣음"
   ]
  },
  {
   "cell_type": "code",
   "execution_count": null,
   "metadata": {},
   "outputs": [],
   "source": [
    "def Get_LeadV1_Numpy():\n",
    "\n",
    "    for myloop in range(1, 21838, 1):\n",
    "        five_digit_value = '%05d' % myloop\n",
    "        signals, fields = wfdb.rdsamp(\"/home/ines/code/ptb-xl/data/\" + five_digit_value + \"_lr\", channels=[6],sampto=1000)\n",
    "\n",
    "        signals = signals.tolist()\n",
    "        # print(signals)\n",
    "\n",
    "        newest = [i[0] for i in signals]\n",
    "        X = [i for i in newest if i != 0.0]\n",
    "        X = np.array(X)\n",
    "        np.save(\"/home/ines/code/ptb-xl/data_LeadV1/\" + five_digit_value + '.npy', X)  # save\n",
    "\n",
    "Get_LeadV1_Numpy()"
   ]
  },
  {
   "cell_type": "code",
   "execution_count": 59,
   "metadata": {
    "id": "bapCIOR_e3uE"
   },
   "outputs": [],
   "source": [
    "def Numpy_Denoise():\n",
    "\n",
    "    # 신호의 평균 절대 편차를 계산\n",
    "    def madev(d, axis=None):\n",
    "        \"\"\" Mean absolute deviation of a signal \"\"\"\n",
    "        return np.mean(np.absolute(d - np.mean(d, axis)), axis)\n",
    "\n",
    "    # 웨이블릿 변환을 사용하여 신호에서 노이즈를 제거하는 함수\n",
    "    # 쌍직교 함수\n",
    "    # 레벨1로 웨이블릿 변환\n",
    "    def wavelet_denoising(x, wavelet='bior3.1', level=1):\n",
    "        # coeff: 웨이블릿 변환을 통해 계산된 근사 계수와 세부 계수를 저장하는 변수\n",
    "        coeff = pywt.wavedec(x, wavelet, mode=\"per\")\n",
    "        # 세부 계수의 평균 절대 편차를 계산하여 노이즈의 크기를 추정하는 데 사용\n",
    "        sigma = (1 / 0.6745) * madev(coeff[-level])\n",
    "        # uthresh: 임계값으로, 노이즈의 크기를 기반으로 계산\n",
    "        uthresh = sigma * np.sqrt(2 * np.log(len(x)))\n",
    "        coeff[1:] = (pywt.threshold(i, value=uthresh, mode='hard') for i in coeff[1:])\n",
    "        # Multilevel reconstruction using waverec\n",
    "        # wavelet: Wavelet object or name string\n",
    "        return pywt.waverec(coeff, wavelet, mode='per')\n",
    "\n",
    "\n",
    "    src_dir = \"/home/ines/code/ptb-xl/data_LeadV1/\"  # 21837\n",
    "    dest_dir = \"/home/ines/code/ptb-xl/data__Denoised/\"\n",
    "\n",
    "    # 반복문을 통해 모든 .npy 파일에 대해 노이즈 제거를 수행합니다. 각 파일을 웨이블릿 변환을 통해 필터링하고 새로운 파일로 저장\n",
    "    for file in glob.iglob(src_dir + '**/*.npy', recursive=True):\n",
    "        existing_file_name = Path(file).stem\n",
    "        new_file_name = existing_file_name[:5]\n",
    "\n",
    "        signal = np.load(file)\n",
    "\n",
    "        # wavelist=['bior1.3','bior2.8','bior3.1','bior3.9','db2','db8','rbio1.5','sym6','sym8']\n",
    "        wavelist = ['bior3.1']\n",
    "\n",
    "\n",
    "        for wav in wavelist:\n",
    "            filtered = wavelet_denoising(signal, wavelet=wav, level=1)\n",
    "            np.save(dest_dir+new_file_name+'.npy', filtered) # save\n",
    "\n",
    "Numpy_Denoise()"
   ]
  },
  {
   "cell_type": "markdown",
   "metadata": {
    "id": "NBoajuT8huEP"
   },
   "source": [
    "Frequency Filtration to reduce data size"
   ]
  },
  {
   "cell_type": "code",
   "execution_count": null,
   "metadata": {},
   "outputs": [],
   "source": [
    "def Freq_Filteration():\n",
    "    #### https://scipy-lectures.org/intro/scipy/auto_examples/plot_fftpack.html\n",
    "\n",
    "    src_dir = \"/home/ines/code/ptb-xl/data__Denoised/\"\n",
    "    dest_dir = \"/home/ines/code/ptb-xl/data__filtered/\"\n",
    "\n",
    "    for file in glob.iglob(src_dir + '**/*.npy', recursive=True):\n",
    "\n",
    "        #Extracting File Name\n",
    "        existing_file_name = Path(file).stem\n",
    "        new_file_name = existing_file_name[:7]\n",
    "\n",
    "        #Load the file\n",
    "        x = np.load(file)  # 17876_lr\n",
    "\n",
    "        # The FFT of the signal\n",
    "        sig_fft = fftpack.fft(x)\n",
    "\n",
    "        # The corresponding frequencies\n",
    "        sample_freq = fftpack.fftfreq(x.size, d=0.02)\n",
    "\n",
    "        #The original signal copy\n",
    "        high_freq_fft = sig_fft.copy()\n",
    "        high_freq_fft = np.delete(high_freq_fft, np.where(np.abs(sample_freq > 2)))\n",
    "\n",
    "        #Taking Inverse of FFT\n",
    "        filtered_sig = fftpack.ifft(high_freq_fft)\n",
    "\n",
    "        #Saving resultant filtered signal into npy\n",
    "        np.save(dest_dir+new_file_name+\".npy\", filtered_sig)\n",
    "    \n",
    "Freq_Filteration()"
   ]
  },
  {
   "cell_type": "markdown",
   "metadata": {},
   "source": [
    "### 한 번에 돌리기엔 너무 많아서 따로 파일 두고 4000개 씩 돌림\n",
    "\n",
    "- 기존 설정으로 train 결과 확인 후 figsize=(64,64) 해보기"
   ]
  },
  {
   "cell_type": "code",
   "execution_count": null,
   "metadata": {},
   "outputs": [],
   "source": [
    "def Draw_Spectrogram():\n",
    "    \n",
    "    src_dir = \"/home/ines/code/ptb-xl/data__filtered/21837/\"\n",
    "    dest_dir = \"/home/ines/code/ptb-xl/data__spec/imshitest/\"\n",
    "\n",
    "\n",
    "    for file in glob.iglob(src_dir + '**/*.npy', recursive=True):\n",
    "        # Extracting File Name\n",
    "        existing_file_name = Path(file).stem\n",
    "        new_file_name = existing_file_name[:7]   \n",
    "\n",
    "        #Loading file\n",
    "        x = np.load(file)   \n",
    "\n",
    "        #applying STFT transformation\n",
    "        f, t, Zxx = signal.stft(x, nfft=9, nperseg=9, noverlap=5, window='hann') #NFFT calculate by N base Log 2 with x=len(x) \n",
    "        plt.figure(figsize=(1.15, 1.19))\n",
    "\n",
    "        #plotting spectrogram\n",
    "        plt.pcolormesh(t, f, np.abs(Zxx), cmap=\"gray_r\")\n",
    "        plt.axis(\"off\")\n",
    "        plt.savefig(dest_dir+ new_file_name + '.png',bbox_inches='tight',pad_inches=0)\n",
    "        plt.close('all')\n",
    "\n",
    "Draw_Spectrogram()"
   ]
  },
  {
   "cell_type": "markdown",
   "metadata": {
    "id": "9THOfaY3h6BL"
   },
   "source": [
    "Raw Signal Graph\n",
    "\n",
    "\n",
    "**Raw signal일단 스킵**"
   ]
  },
  {
   "cell_type": "code",
   "execution_count": null,
   "metadata": {},
   "outputs": [],
   "source": [
    "# fig size 수정 필요\n",
    "\n",
    "def DrawGraphs():\n",
    "\n",
    "    src_dir = \"/home/ines/code/ptb-xl/data__filtered/16000/12000/\"\n",
    "    dest_dir = \"/home/ines/code/ptb-xl/data__gr/\"\n",
    "\n",
    "\n",
    "    for file in glob.iglob(src_dir + '**/*.npy', recursive=True):\n",
    "        # Extracting File Name\n",
    "        existing_file_name = Path(file).stem\n",
    "        new_file_name = existing_file_name[:7]  \n",
    "\n",
    "        # Loading file\n",
    "        x = np.load(file)  \n",
    "\n",
    "        plt.figure(figsize=(5, 5))   \n",
    "        plt.plot(x, 'gray')\n",
    "        plt.axis(\"off\")\n",
    "\n",
    "        # saving plots\n",
    "        plt.savefig(dest_dir + new_file_name + '.jpeg')\n",
    "        plt.close('all')\n",
    "\n",
    "        \n",
    "DrawGraphs()"
   ]
  },
  {
   "cell_type": "markdown",
   "metadata": {
    "id": "H2TH7Vhwh-cT"
   },
   "source": [
    "Two Data Augmentation Approaches on Spectrogram / Raw Signal Images"
   ]
  },
  {
   "cell_type": "code",
   "execution_count": null,
   "metadata": {},
   "outputs": [],
   "source": [
    "import os\n",
    "import shutil\n",
    "import pandas as pd\n",
    "import ast  \n",
    "\n",
    "def distribute_images():\n",
    "    test_fold = 10\n",
    "    \n",
    "    # 데이터베이스(csv 파일) 로드\n",
    "    df_db = pd.read_csv('/home/ines/code/ptb-xl/ptbxl_database.csv', index_col='ecg_id')\n",
    "    # ASMI를 포함하는 인덱스\n",
    "    asmi_indices = df_db[df_db['scp_codes'].str.contains('ASMI', na=False)].index\n",
    "    # ASMI가 아닌 인덱스\n",
    "    normal_indices = df_db[~df_db.index.isin(asmi_indices)].index\n",
    "\n",
    "    df_st = pd.read_csv('/home/ines/code/ptb-xl/scp_statements.csv', index_col=0)\n",
    "    df_st = df_st[df_st.diagnostic == 1]\n",
    "\n",
    "\n",
    "    source_dir = f\"/home/ines/code/ptb-xl/data__spec/\"\n",
    "    train_dir_asmi = f'/home/ines/code/ptb-xl/X_train/asmi/'\n",
    "    train_dir_normal = f'/home/ines/code/ptb-xl/X_train/normal/'\n",
    "    test_dir_asmi = f'/home/ines/code/ptb-xl/X_test/asmi/'\n",
    "    test_dir_normal = f'/home/ines/code/ptb-xl/X_test/normal/'\n",
    "    \n",
    "    # ASMI 이미지 이동\n",
    "    for i in asmi_indices:\n",
    "        five_digit_value = '%05d' % i\n",
    "        file_name = five_digit_value + \".png\"\n",
    "        if df_db.loc[i, 'strat_fold'] != test_fold:\n",
    "            destination_path = os.path.join(train_dir_asmi, file_name)\n",
    "        else:\n",
    "            destination_path = os.path.join(test_dir_asmi, file_name)\n",
    "        shutil.move(os.path.join(source_dir, file_name), destination_path)\n",
    "\n",
    "    # ASMI가 아닌 이미지 이동\n",
    "    for n in normal_indices:\n",
    "        five_digit_value = '%05d' % n\n",
    "        file_name = five_digit_value + \".png\"\n",
    "        if df_db.loc[n, 'strat_fold'] != test_fold:\n",
    "            destination_path = os.path.join(train_dir_normal, file_name)\n",
    "        else:\n",
    "            destination_path = os.path.join(test_dir_normal, file_name)\n",
    "        shutil.move(os.path.join(source_dir, file_name), destination_path)\n",
    "\n",
    "\n",
    "# 이미지 분배 함수 호출\n",
    "distribute_images()"
   ]
  },
  {
   "cell_type": "markdown",
   "metadata": {},
   "source": [
    "**Augmentation**"
   ]
  },
  {
   "cell_type": "code",
   "execution_count": null,
   "metadata": {},
   "outputs": [],
   "source": [
    "def HorizontalFlip():\n",
    "    src_dir = \"/home/ines/code/ptb-xl/X_train/asmi/\"\n",
    "    dest_dir = \"/home/ines/code/ptb-xl/X_train/asmi_aug/\"\n",
    "\n",
    "    for file in glob.iglob(src_dir + '**/*.png', recursive=True):\n",
    "        # Extracting File Name\n",
    "        existing_file_name = Path(file).stem\n",
    "        new_file_name = existing_file_name[:5]\n",
    "        print(file)\n",
    "        #opening Image and convert into 2-D\n",
    "        img = Image.open(file)\n",
    "        img = np.array(img)\n",
    "\n",
    "        # Flipping images with Numpy\n",
    "        flipped_img = np.fliplr(img)\n",
    "\n",
    "        img=Image.fromarray(flipped_img)\n",
    "        img.save(dest_dir+new_file_name+\"_hFlip\"+\".png\")\n",
    "        plt.close('all')\n",
    "\n",
    "def SetContrast():\n",
    "    src_dir = \"/home/ines/code/ptb-xl/X_train/asmi/\"\n",
    "    dest_dir = \"/home/ines/code/ptb-xl/X_train/asmi_aug/\"\n",
    "\n",
    "    for file in glob.iglob(src_dir + '**/*.png', recursive=True):\n",
    "        # Extracting File Name\n",
    "        existing_file_name = Path(file).stem\n",
    "        new_file_name = existing_file_name[:5]\n",
    "\n",
    "        # read the image\n",
    "        im = Image.open(file)\n",
    "\n",
    "        # image brightness enhancer\n",
    "        enhancer = ImageEnhance.Contrast(im)\n",
    "\n",
    "        factor = 1.7  # increase contrast\n",
    "        im_output = enhancer.enhance(factor)\n",
    "        im_output.save(dest_dir + new_file_name + \"_Contrast\" + \".png\")\n",
    "\n",
    "\n",
    "HorizontalFlip()\n",
    "SetContrast()"
   ]
  },
  {
   "cell_type": "code",
   "execution_count": null,
   "metadata": {},
   "outputs": [],
   "source": [
    "def HorizontalFlip():\n",
    "    src_dir = \"/home/ines/code/ptb-xl/X_train/asmi/\"\n",
    "    dest_dir = \"/home/ines/code/ptb-xl/X_train/asmi_aug/\"\n",
    "\n",
    "    for file in glob.iglob(src_dir + '**/*.png', recursive=True):\n",
    "        # Extracting File Name\n",
    "        existing_file_name = Path(file).stem\n",
    "        new_file_name = existing_file_name[:5]\n",
    "        print(file)\n",
    "        #opening Image and convert into 2-D\n",
    "        img = Image.open(file)\n",
    "        img = np.array(img)\n",
    "\n",
    "        # Flipping images with Numpy\n",
    "        flipped_img = np.fliplr(img)\n",
    "\n",
    "        img=Image.fromarray(flipped_img)\n",
    "        img.save(dest_dir+new_file_name+\"_hFlip\"+\".png\")\n",
    "        plt.close('all')\n",
    "\n",
    "def SetContrast():\n",
    "    src_dir = \"/home/ines/code/ptb-xl/X_train/asmi/\"\n",
    "    dest_dir = \"/home/ines/code/ptb-xl/X_train/asmi_aug/\"\n",
    "\n",
    "    for file in glob.iglob(src_dir + '**/*.png', recursive=True):\n",
    "        # Extracting File Name\n",
    "        existing_file_name = Path(file).stem\n",
    "        new_file_name = existing_file_name[:5]\n",
    "\n",
    "        # read the image\n",
    "        im = Image.open(file)\n",
    "\n",
    "        # image brightness enhancer\n",
    "        enhancer = ImageEnhance.Contrast(im)\n",
    "\n",
    "        factor = 1.7  # increase contrast\n",
    "        im_output = enhancer.enhance(factor)\n",
    "        im_output.save(dest_dir + new_file_name + \"_Contrast\" + \".png\")\n",
    "\n",
    "\n",
    "HorizontalFlip()\n",
    "SetContrast()"
   ]
  },
  {
   "cell_type": "markdown",
   "metadata": {},
   "source": [
    "### 전처리 끝"
   ]
  },
  {
   "cell_type": "code",
   "execution_count": null,
   "metadata": {},
   "outputs": [],
   "source": []
  },
  {
   "cell_type": "code",
   "execution_count": 49,
   "metadata": {
    "scrolled": true
   },
   "outputs": [
    {
     "name": "stdout",
     "output_type": "stream",
     "text": [
      "Index([   63,   106,   131,   162,   177,   181,   182,   184,   189,   223,\n",
      "       ...\n",
      "       21700, 21736, 21742, 21762, 21764, 21765, 21778, 21780, 21796, 21805],\n",
      "      dtype='int64', name='ecg_id', length=2357)\n"
     ]
    }
   ],
   "source": [
    "'''\n",
    "\n",
    "import os\n",
    "import shutil\n",
    "import pandas as pd\n",
    "import ast  \n",
    "\n",
    "def distribute_images():\n",
    "    test_fold = 10\n",
    "    \n",
    "    # 데이터베이스(csv 파일) 로드\n",
    "    df_db = pd.read_csv('/home/ines/code/ptb-xl/ptbxl_database.csv', index_col='ecg_id')\n",
    "    # ASMI를 포함하는 인덱스\n",
    "    asmi_indices = df_db[df_db['scp_codes'].str.contains('ASMI', na=False)].index\n",
    "    # ASMI가 아닌 인덱스\n",
    "    normal_indices = df_db[~df_db.index.isin(asmi_indices)].index\n",
    "\n",
    "    \n",
    "    df_st = pd.read_csv('/home/ines/code/ptb-xl/scp_statements.csv', index_col=0)\n",
    "    df_st = df_st[df_st.diagnostic == 1]\n",
    "\n",
    "\n",
    "\n",
    "    # diagnostic superclass 추가 \n",
    "\n",
    "    source_dir = f\"/home/ines/code/ptb-xl/data__spec/\"\n",
    "    asmi_dir = f\"/home/ines/code/ptb-xl/d/asmi/\"\n",
    "    normal_dir = f\"/home/ines/code/ptb-xl/d/normal/\"\n",
    "\n",
    "    for i in asmi_indices:\n",
    "        five_digit_value = '%05d' % i\n",
    "        file_name = five_digit_value + \".png\"   \n",
    "        destination_path = os.path.join(asmi_dir, file_name)\n",
    "        shutil.move(os.path.join(source_dir, file_name), destination_path)\n",
    "\n",
    "    for i in normal_indices:\n",
    "        five_digit_value = '%05d' % i\n",
    "        file_name = five_digit_value + \".png\"        \n",
    "        destination_path = os.path.join(normal_dir, file_name)\n",
    "        shutil.move(os.path.join(source_dir, file_name), destination_path)\n",
    "    \n",
    "\n",
    "# 이미지 분배 함수 호출\n",
    "distribute_images()\n",
    "'''"
   ]
  },
  {
   "cell_type": "code",
   "execution_count": 25,
   "metadata": {},
   "outputs": [
    {
     "name": "stdout",
     "output_type": "stream",
     "text": [
      "Index([   63,   106,   131,   162,   177,   181,   182,   184,   189,   223,\n",
      "       ...\n",
      "       21700, 21736, 21742, 21762, 21764, 21765, 21778, 21780, 21796, 21805],\n",
      "      dtype='int64', name='ecg_id', length=2357)\n"
     ]
    }
   ],
   "source": [
    "import pandas as pd\n",
    "\n",
    "# 데이터베이스(csv 파일) 로드\n",
    "df_db = pd.read_csv('/home/ines/code/ptb-xl/ptbxl_database.csv', index_col='ecg_id')\n",
    "\n",
    "# ASMI를 포함하는 인덱스\n",
    "asmi_indices = df_db[df_db['scp_codes'].str.contains('ASMI', na=False)].index\n",
    "# ASMI가 아닌 인덱스\n",
    "normal_indices = df_db[~df_db.index.isin(asmi_indices)].index\n",
    "\n",
    "print(asmi_indices)\n"
   ]
  },
  {
   "cell_type": "code",
   "execution_count": 26,
   "metadata": {},
   "outputs": [
    {
     "data": {
      "text/plain": [
       "Index([    1,     2,     3,     4,     5,     6,     7,     8,     9,    10,\n",
       "       ...\n",
       "       21828, 21829, 21830, 21831, 21832, 21833, 21834, 21835, 21836, 21837],\n",
       "      dtype='int64', name='ecg_id', length=19442)"
      ]
     },
     "execution_count": 26,
     "metadata": {},
     "output_type": "execute_result"
    }
   ],
   "source": [
    "print(normal_indices)"
   ]
  },
  {
   "cell_type": "code",
   "execution_count": 27,
   "metadata": {},
   "outputs": [
    {
     "name": "stdout",
     "output_type": "stream",
     "text": [
      "중복되는 인덱스가 없습니다.\n"
     ]
    }
   ],
   "source": [
    "intersection = set(asmi_indices) & set(normal_indices)\n",
    "\n",
    "if intersection:\n",
    "    print(\"중복되는 인덱스가 있습니다.\")\n",
    "    print(\"중복되는 인덱스:\", intersection)\n",
    "else:\n",
    "    print(\"중복되는 인덱스가 없습니다.\")\n"
   ]
  },
  {
   "cell_type": "markdown",
   "metadata": {
    "id": "KIDoHSG5hzGP"
   },
   "source": [
    "Spectrograms Using STFT (Scipy Library)"
   ]
  }
 ],
 "metadata": {
  "colab": {
   "provenance": []
  },
  "kernelspec": {
   "display_name": "lab",
   "language": "python",
   "name": "jyp"
  },
  "language_info": {
   "codemirror_mode": {
    "name": "ipython",
    "version": 3
   },
   "file_extension": ".py",
   "mimetype": "text/x-python",
   "name": "python",
   "nbconvert_exporter": "python",
   "pygments_lexer": "ipython3",
   "version": "3.9.18"
  }
 },
 "nbformat": 4,
 "nbformat_minor": 4
}
