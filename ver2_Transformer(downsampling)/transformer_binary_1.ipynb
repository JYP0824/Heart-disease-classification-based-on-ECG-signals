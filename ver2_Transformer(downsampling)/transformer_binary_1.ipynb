{
 "cells": [
  {
   "cell_type": "code",
   "execution_count": 15,
   "id": "49571dd6-5e84-4f61-8022-e3eac92fa27c",
   "metadata": {},
   "outputs": [],
   "source": [
    "import numpy as np\n",
    "import wfdb\n",
    "import glob\n",
    "import matplotlib.pyplot as plt\n",
    "from matplotlib.image import imread\n",
    "import pywt\n",
    "import pywt.data\n",
    "import os\n",
    "from pathlib import Path\n",
    "from PIL import Image,ImageEnhance\n",
    "from scipy import fftpack\n",
    "import shutil\n",
    "import pandas as pd\n",
    "import random\n",
    "import scipy.signal as signal\n",
    "from wfdb import processing\n",
    "from itertools import combinations\n",
    "import ast\n",
    "import wfdb"
   ]
  },
  {
   "cell_type": "code",
   "execution_count": 16,
   "id": "9c99d8a7-8cec-477e-9ee3-2fd8757e83df",
   "metadata": {},
   "outputs": [],
   "source": [
    "import numpy as np\n",
    "import pandas as pd\n",
    "\n",
    "import psutil\n",
    "import GPUtil\n",
    "\n",
    "import os,sys,humanize,psutil,GPUtil\n",
    "\n",
    "import matplotlib.pyplot as plt\n",
    "import seaborn as sn\n",
    "from PIL import Image\n",
    "import matplotlib.image as mpimg\n",
    "import imageio\n",
    "import glob\n",
    "from sklearn.metrics import confusion_matrix, ConfusionMatrixDisplay\n",
    "\n",
    "%matplotlib inline\n",
    "\n",
    "import os\n",
    "\n",
    "import torch\n",
    "import torch.nn as nn\n",
    "import torch.nn.functional as F\n",
    "from torchvision.transforms import ToTensor\n",
    "from torchvision import datasets, transforms\n",
    "from torch.utils.data import DataLoader\n",
    "from torch.utils.data import Dataset  # Import the Dataset class"
   ]
  },
  {
   "cell_type": "markdown",
   "id": "621c3e7d-8863-4663-afbc-e7ef026a58d4",
   "metadata": {},
   "source": [
    "# rescale, dataset, dataloader"
   ]
  },
  {
   "cell_type": "code",
   "execution_count": 3,
   "id": "6f898d7f-e60f-443b-ba61-c35aba99ff11",
   "metadata": {},
   "outputs": [],
   "source": [
    "'''\n",
    "class TimeSeriesDataset(Dataset):\n",
    "    def __init__(self, root_dir, transform=None):\n",
    "        \"\"\"\n",
    "        Args:\n",
    "            root_dir (string): 'asmi'와 'normal' 폴더가 포함된 최상위 디렉토리 경로.\n",
    "            transform (callable, optional): 샘플에 적용될 선택적 변환.\n",
    "        \"\"\"\n",
    "        self.transform = transform\n",
    "        self.samples = []\n",
    "\n",
    "        # asmi 폴더의 파일에 라벨 1 할당\n",
    "        asmi_files = glob.glob(os.path.join(root_dir, 'asmi', '*.npy'))\n",
    "        self.samples.extend([(file, 1) for file in asmi_files])\n",
    "\n",
    "        # normal 폴더의 파일에 라벨 0 할당\n",
    "        normal_files = glob.glob(os.path.join(root_dir, 'normal', '*.npy'))\n",
    "        self.samples.extend([(file, 0) for file in normal_files])\n",
    "\n",
    "    def __len__(self):\n",
    "        return len(self.samples)\n",
    "\n",
    "    def __getitem__(self, idx):\n",
    "        file_path, label = self.samples[idx]\n",
    "        # .npy 파일 로드\n",
    "        data = np.load(file_path)\n",
    "        \n",
    "        # PyTorch 텐서로 변환\n",
    "        data = torch.from_numpy(data).float()\n",
    "        \n",
    "        if self.transform:\n",
    "            data = self.transform(data)\n",
    "        \n",
    "        return data, label\n",
    "'''"
   ]
  },
  {
   "cell_type": "code",
   "execution_count": 17,
   "id": "cd8d0388-48e2-4953-aad1-3a7e0dc1476d",
   "metadata": {},
   "outputs": [],
   "source": [
    "transform = transforms.Compose([\n",
    "    transforms.Lambda(lambda x: x / 255.0)\n",
    "])"
   ]
  },
  {
   "cell_type": "code",
   "execution_count": 5,
   "id": "b24c1989-7baf-4403-b26a-ef87cd1af930",
   "metadata": {},
   "outputs": [],
   "source": [
    "class TimeSeriesDataset(Dataset):\n",
    "    def __init__(self, root_dir, transform=None, augment_transform=None):\n",
    "        self.transform = transform\n",
    "        self.augment_transform = augment_transform\n",
    "        self.samples = []\n",
    "\n",
    "        asmi_files = glob.glob(os.path.join(root_dir, 'asmi', '*.npy'))\n",
    "        self.samples.extend([(file, 1) for file in asmi_files])\n",
    "\n",
    "        normal_files = glob.glob(os.path.join(root_dir, 'normal', '*.npy'))\n",
    "        self.samples.extend([(file, 0) for file in normal_files])\n",
    "\n",
    "    def __len__(self):\n",
    "        return len(self.samples)\n",
    "\n",
    "    def __getitem__(self, idx):\n",
    "        file_path, label = self.samples[idx]\n",
    "        data = np.load(file_path)\n",
    "\n",
    "        # PyTorch 텐서로 변환 후 데이터 증강 또는 변환 적용\n",
    "        data = torch.from_numpy(data).float()\n",
    "        if label == 1 and self.augment_transform:\n",
    "            data = self.augment_transform(data)\n",
    "        elif self.transform:\n",
    "            data = self.transform(data)\n",
    "        \n",
    "        # 데이터를 (64, 4, 125) 형태로 reshape\n",
    "        data = data.view(10,50)\n",
    "        \n",
    "        return data, label"
   ]
  },
  {
   "cell_type": "code",
   "execution_count": 6,
   "id": "a8993f9b-811e-4aa4-9b87-ae6eca94cbb1",
   "metadata": {},
   "outputs": [],
   "source": [
    "train_dir = os.path.join('/home/ines/code/ptb-xl/X_train_V1/')\n",
    "test_dir = os.path.join('/home/ines/code/ptb-xl/X_test_V1/')"
   ]
  },
  {
   "cell_type": "code",
   "execution_count": 7,
   "id": "4378087f-332b-47bb-aaf7-47ee4240ddfd",
   "metadata": {},
   "outputs": [],
   "source": [
    "# 데이터 증강을 위한 변환 정의\n",
    "augment_transform = transforms.Compose([\n",
    "    transforms.Lambda(lambda x: x * torch.rand(1) + 0.5)  # 예시: 무작위 스케일링\n",
    "])\n",
    "\n",
    "# 데이터셋 인스턴스 생성 시 'asmi' 클래스에 적용할 augment_transform 전달\n",
    "train_da = TimeSeriesDataset(root_dir=train_dir,\n",
    "                                  transform=transform,\n",
    "                                  augment_transform=augment_transform)\n",
    "test_da = TimeSeriesDataset(root_dir=test_dir,\n",
    "                                  transform=transform,\n",
    "                                  augment_transform=augment_transform)"
   ]
  },
  {
   "cell_type": "code",
   "execution_count": 8,
   "id": "a4ea0320-8110-45b3-b152-d06150147e83",
   "metadata": {},
   "outputs": [],
   "source": [
    "# 데이터셋 및 DataLoader 생성\n",
    "# train_da = TimeSeriesDataset(root_dir=train_dir, transform = transform)\n",
    "# test_da = TimeSeriesDataset(root_dir=test_dir, transform = transform)\n",
    "\n",
    "train_dl = DataLoader(train_da, batch_size=64, shuffle=True, num_workers=4)\n",
    "test_dl = DataLoader(test_da, batch_size=64, shuffle=True, num_workers=4)"
   ]
  },
  {
   "cell_type": "code",
   "execution_count": 18,
   "id": "91da5130-f518-4204-a449-69d3d2b82249",
   "metadata": {
    "scrolled": true
   },
   "outputs": [
    {
     "name": "stdout",
     "output_type": "stream",
     "text": [
      "tensor([[[-8.4459e-05, -2.6030e-04, -1.9220e-04,  ...,  4.9653e-05,\n",
      "          -2.0452e-04, -1.2809e-04],\n",
      "         [-1.6520e-04,  1.9760e-05, -1.3585e-04,  ..., -3.2164e-05,\n",
      "           1.1369e-04, -3.8591e-06],\n",
      "         [ 1.1032e-04,  1.1554e-05,  3.8055e-05,  ..., -7.1591e-05,\n",
      "          -1.4539e-04, -9.7935e-05],\n",
      "         ...,\n",
      "         [ 2.0318e-04,  1.8921e-04,  2.3036e-04,  ...,  1.4593e-04,\n",
      "           1.1875e-04, -1.9440e-05],\n",
      "         [-1.1107e-04,  2.2202e-05,  9.2574e-06,  ..., -2.0905e-03,\n",
      "          -1.3649e-03,  6.4607e-04],\n",
      "         [-8.6079e-05,  3.4697e-04, -7.9501e-06,  ...,  6.2204e-04,\n",
      "           3.6242e-04,  1.2173e-04]],\n",
      "\n",
      "        [[ 6.3824e-04,  1.0811e-04,  2.3923e-04,  ..., -1.0857e-04,\n",
      "          -1.0603e-05, -7.5682e-06],\n",
      "         [-6.1647e-06, -2.4137e-05,  1.3817e-04,  ...,  1.0480e-04,\n",
      "           5.8432e-05,  1.0701e-04],\n",
      "         [ 6.6870e-05,  5.4264e-05,  2.9754e-05,  ...,  1.2759e-04,\n",
      "           1.6941e-05,  3.5552e-05],\n",
      "         ...,\n",
      "         [-4.9687e-04, -4.5140e-04, -4.3423e-04,  ...,  1.7104e-04,\n",
      "           1.8068e-04,  1.9472e-04],\n",
      "         [ 1.6305e-04,  1.6422e-04,  1.3497e-04,  ...,  8.2859e-04,\n",
      "           8.7931e-04,  9.4566e-04],\n",
      "         [ 9.4209e-04,  1.0070e-03,  1.0584e-03,  ...,  1.4954e-03,\n",
      "           1.5893e-03,  1.7868e-03]],\n",
      "\n",
      "        [[ 9.8468e-04, -4.8332e-04,  1.4007e-04,  ..., -2.6751e-03,\n",
      "          -3.9755e-04, -2.3154e-05],\n",
      "         [ 1.9263e-04,  1.2185e-04,  2.8663e-04,  ...,  4.4432e-04,\n",
      "           4.9262e-04,  3.8082e-04],\n",
      "         [ 3.5922e-04,  2.0004e-04,  1.9067e-04,  ...,  1.1702e-04,\n",
      "           7.6481e-05,  4.2397e-05],\n",
      "         ...,\n",
      "         [-6.4574e-05,  1.3451e-06, -1.2467e-06,  ..., -4.4152e-05,\n",
      "          -1.7409e-04,  3.5601e-04],\n",
      "         [-7.8608e-04, -2.6038e-03, -5.5106e-04,  ...,  2.9457e-04,\n",
      "           2.5314e-04,  4.1768e-04],\n",
      "         [ 5.0698e-04,  6.3683e-04,  5.6774e-04,  ...,  2.9632e-04,\n",
      "          -8.1145e-04,  1.1124e-03]],\n",
      "\n",
      "        ...,\n",
      "\n",
      "        [[ 3.8473e-04,  9.8319e-05, -2.3795e-05,  ..., -1.1889e-03,\n",
      "          -3.0028e-03, -5.4821e-04],\n",
      "         [ 3.1688e-04,  3.9468e-04,  2.6691e-04,  ...,  1.7701e-04,\n",
      "           1.6969e-04, -1.8098e-06],\n",
      "         [-2.9855e-05, -6.6678e-05,  8.6952e-05,  ...,  2.4206e-04,\n",
      "           2.2826e-04,  1.9505e-04],\n",
      "         ...,\n",
      "         [ 1.6980e-04,  1.5165e-04,  1.7952e-04,  ...,  3.1196e-04,\n",
      "           7.3737e-05,  4.2996e-04],\n",
      "         [-2.4581e-03, -3.0686e-03, -1.2808e-04,  ...,  2.1564e-04,\n",
      "           1.6608e-04,  1.4386e-05],\n",
      "         [-1.2520e-04, -2.3473e-04, -9.5519e-05,  ...,  8.5143e-05,\n",
      "           6.0339e-04,  8.9981e-04]],\n",
      "\n",
      "        [[-7.1294e-05, -6.8631e-05, -4.5387e-05,  ...,  3.1968e-04,\n",
      "           2.8863e-04,  2.7582e-04],\n",
      "         [ 2.7431e-04,  2.6674e-04,  2.2039e-04,  ..., -9.9801e-05,\n",
      "          -6.1368e-05, -7.1225e-05],\n",
      "         [-1.3391e-05, -4.1672e-05, -2.4145e-05,  ...,  1.3707e-04,\n",
      "           1.1289e-04,  1.2262e-04],\n",
      "         ...,\n",
      "         [ 8.8734e-05,  7.0031e-05,  8.9672e-05,  ...,  1.7238e-04,\n",
      "           1.7995e-04,  1.1084e-04],\n",
      "         [ 1.6204e-04,  1.1221e-04,  1.6259e-04,  ...,  1.0315e-04,\n",
      "           1.3129e-04,  7.5712e-05],\n",
      "         [ 1.3927e-04,  9.3316e-05,  1.4316e-04,  ..., -2.7288e-04,\n",
      "          -1.6502e-04, -2.2291e-04]],\n",
      "\n",
      "        [[-2.6286e-03, -1.2187e-03,  4.8705e-04,  ...,  6.0785e-04,\n",
      "           5.8046e-04,  8.5194e-04],\n",
      "         [ 9.5303e-04,  9.8695e-04,  7.4692e-04,  ...,  8.4394e-05,\n",
      "           4.4893e-05,  3.4322e-05],\n",
      "         [ 1.0143e-04, -3.1568e-05,  1.1008e-05,  ..., -9.0358e-05,\n",
      "          -7.2009e-05, -2.1943e-04],\n",
      "         ...,\n",
      "         [ 2.2911e-04,  1.7668e-05,  2.3546e-04,  ...,  6.7579e-04,\n",
      "           8.0635e-04,  6.1125e-04],\n",
      "         [ 4.6822e-04,  2.8571e-04,  2.7787e-04,  ...,  1.6071e-04,\n",
      "           7.8057e-05,  9.9956e-05],\n",
      "         [ 1.5408e-04,  1.5970e-04,  8.0992e-05,  ...,  3.1937e-05,\n",
      "          -2.2720e-04,  1.4921e-04]]])\n"
     ]
    }
   ],
   "source": [
    "for text, label in test_dl:\n",
    "    print(text)\n",
    "    break"
   ]
  },
  {
   "cell_type": "markdown",
   "id": "ac6d4dee-42ec-4c29-a3b2-75d7c50090a0",
   "metadata": {},
   "source": [
    "# 모델 정의 및 훈련"
   ]
  },
  {
   "cell_type": "code",
   "execution_count": 10,
   "id": "14805c2a-dc2a-40e1-a450-e753c12e29c0",
   "metadata": {},
   "outputs": [],
   "source": [
    "class ECGTransformer(nn.Module):\n",
    "    def __init__(self, input_dim, num_heads, num_layers):\n",
    "        super(ECGTransformer, self).__init__()\n",
    "        self.encoder_layer = nn.TransformerEncoderLayer(d_model=input_dim, nhead=num_heads)\n",
    "        self.transformer_encoder = nn.TransformerEncoder(self.encoder_layer, num_layers=num_layers)\n",
    "        # Assuming that after processing we want a single scalar for each item in the batch\n",
    "        # We use input_dim * sequence_length because we're going to flatten the output of the transformer\n",
    "        self.fc = nn.Linear(input_dim * 50, 1)  # Adjust the multiplication factor according to your sequence length\n",
    "\n",
    "    def forward(self, src):\n",
    "        # src shape: [batch_size, channels, seq_len] -> [64, 12, 500]\n",
    "        # Permuting and flattening to treat each channel's time step as separate feature\n",
    "        src = src.permute(2, 0, 1)  # New shape: [seq_len, batch_size, channels] -> [500, 64, 12]\n",
    "        out = self.transformer_encoder(src)\n",
    "        # Flattening the output for the fully connected layer\n",
    "        out = out.permute(1, 0, 2).flatten(start_dim=1)  # [64, 500*12]\n",
    "        out = self.fc(out)  # [64, 1]\n",
    "        out = torch.sigmoid(out)\n",
    "        return out"
   ]
  },
  {
   "cell_type": "code",
   "execution_count": 11,
   "id": "b049b7a9-1735-4764-bb29-71d9fda07733",
   "metadata": {},
   "outputs": [],
   "source": [
    "# Parameters initialization\n",
    "input_dim = 10 # Number of channels\n",
    "num_heads = 5\n",
    "num_layers = 4\n",
    "\n",
    "model = ECGTransformer(input_dim=input_dim, num_heads=num_heads, num_layers=num_layers)"
   ]
  },
  {
   "cell_type": "code",
   "execution_count": 12,
   "id": "b310dbc3-e43a-4a78-bd69-fe74bc3ff6a2",
   "metadata": {},
   "outputs": [
    {
     "data": {
      "text/plain": [
       "device(type='cuda')"
      ]
     },
     "execution_count": 12,
     "metadata": {},
     "output_type": "execute_result"
    }
   ],
   "source": [
    "device_name = \"cuda\" if torch.cuda.is_available() else \"cpu\"\n",
    "device = torch.device(device_name)\n",
    "model.to(device)\n",
    "\n",
    "device"
   ]
  },
  {
   "cell_type": "code",
   "execution_count": 13,
   "id": "57cb0404-41bd-4deb-a697-0515651ba7f1",
   "metadata": {},
   "outputs": [
    {
     "name": "stdout",
     "output_type": "stream",
     "text": [
      "Epoch 1: loss  0.0093, Accuracy  99.63%\n",
      "val_loss  0.0002, Val_Accuracy  100.00%\n",
      "Epoch 2: loss  0.0003, Accuracy  99.99%\n",
      "val_loss  0.0001, Val_Accuracy  100.00%\n",
      "Epoch 3: loss  0.0006, Accuracy  99.99%\n",
      "val_loss  0.0000, Val_Accuracy  100.00%\n",
      "Epoch 4: loss  0.0006, Accuracy  99.99%\n",
      "val_loss  0.0000, Val_Accuracy  100.00%\n"
     ]
    },
    {
     "ename": "KeyboardInterrupt",
     "evalue": "",
     "output_type": "error",
     "traceback": [
      "\u001b[0;31m---------------------------------------------------------------------------\u001b[0m",
      "\u001b[0;31mKeyboardInterrupt\u001b[0m                         Traceback (most recent call last)",
      "Cell \u001b[0;32mIn[13], line 19\u001b[0m\n\u001b[1;32m     17\u001b[0m total_loss_epoch \u001b[38;5;241m=\u001b[39m \u001b[38;5;241m0\u001b[39m\n\u001b[1;32m     18\u001b[0m \u001b[38;5;28;01mfor\u001b[39;00m inputs, labels \u001b[38;5;129;01min\u001b[39;00m train_dl:\n\u001b[0;32m---> 19\u001b[0m     \u001b[43moptimizer\u001b[49m\u001b[38;5;241;43m.\u001b[39;49m\u001b[43mzero_grad\u001b[49m\u001b[43m(\u001b[49m\u001b[43m)\u001b[49m\n\u001b[1;32m     20\u001b[0m     inputs, labels \u001b[38;5;241m=\u001b[39m inputs\u001b[38;5;241m.\u001b[39mto(device), labels\u001b[38;5;241m.\u001b[39mto(device)  \u001b[38;5;66;03m# Move tensors to the same device as the model\u001b[39;00m\n\u001b[1;32m     21\u001b[0m     outputs \u001b[38;5;241m=\u001b[39m model(inputs)  \u001b[38;5;66;03m# If inputs are already in the correct shape, no need to unsqueeze\u001b[39;00m\n",
      "File \u001b[0;32m~/anaconda3/envs/jyp/lib/python3.9/site-packages/torch/optim/optimizer.py:192\u001b[0m, in \u001b[0;36mOptimizer.zero_grad\u001b[0;34m(self, set_to_none)\u001b[0m\n\u001b[1;32m    190\u001b[0m \u001b[38;5;28;01melse\u001b[39;00m:\n\u001b[1;32m    191\u001b[0m     p\u001b[38;5;241m.\u001b[39mgrad\u001b[38;5;241m.\u001b[39mrequires_grad_(\u001b[38;5;28;01mFalse\u001b[39;00m)\n\u001b[0;32m--> 192\u001b[0m \u001b[43mp\u001b[49m\u001b[38;5;241;43m.\u001b[39;49m\u001b[43mgrad\u001b[49m\u001b[38;5;241;43m.\u001b[39;49m\u001b[43mzero_\u001b[49m\u001b[43m(\u001b[49m\u001b[43m)\u001b[49m\n",
      "\u001b[0;31mKeyboardInterrupt\u001b[0m: "
     ]
    }
   ],
   "source": [
    "# Define Loss and Optimizer\n",
    "criterion = nn.BCELoss()  # This loss combines a Sigmoid layer and the BCELoss in one single class\n",
    "optimizer = torch.optim.Adam(model.parameters(), lr=0.001)\n",
    "# scheduler = torch.optim.lr_scheduler.LambdaLR(optimizer=optimizer, lr_lambda=lambda epoch: 0.95 ** epoch)\n",
    "\n",
    "y_pred = []\n",
    "y_true = []\n",
    "tr_acc = []\n",
    "valid_acc = []\n",
    "tr_loss = []\n",
    "valid_loss = []\n",
    "\n",
    "\n",
    "for epoch in range(500):  # Loop over the dataset multiple times\n",
    "    total_correct = 0\n",
    "    total_samples = 0\n",
    "    total_loss_epoch = 0\n",
    "    for inputs, labels in train_dl:\n",
    "        optimizer.zero_grad()\n",
    "        inputs, labels = inputs.to(device), labels.to(device)  # Move tensors to the same device as the model\n",
    "        outputs = model(inputs)  # If inputs are already in the correct shape, no need to unsqueeze\n",
    "        \n",
    "        predicted = (outputs >= 0.5).float()  # 0.5를 기준으로 클래스를 나눕니다\n",
    "        correct = (predicted.squeeze(1) == labels).sum().item()\n",
    "        total_correct += correct\n",
    "        total_samples += labels.size(0)        \n",
    "\n",
    "        loss = criterion(outputs, labels.unsqueeze(1).float())\n",
    "        acc = 100 * total_correct / total_samples\n",
    "        loss.backward()\n",
    "        optimizer.step()\n",
    "        total_loss_epoch += loss.item()\n",
    "\n",
    "    avg_loss_epoch = total_loss_epoch / len(train_dl)\n",
    "    acc = 100 * total_correct / total_samples\n",
    "    tr_acc.append(acc)\n",
    "    tr_loss.append(avg_loss_epoch)\n",
    "    print(f'Epoch {epoch+1}: loss {avg_loss_epoch: .4f}, Accuracy {acc: .2f}%')\n",
    "    \n",
    "\n",
    "    model.eval()\n",
    "    with torch.no_grad():\n",
    "        val_tot_correct = 0\n",
    "        val_tot_samples = 0\n",
    "        for images, labels in test_dl:\n",
    "            images, labels = images.to(device), labels.to(device)\n",
    "            val_outputs  = model(images)\n",
    "\n",
    "            val_pred = (val_outputs >= 0.5).float().squeeze(1) # Make sure this results in a 1D tensor\n",
    "\n",
    "            lab = labels.cpu().numpy()\n",
    "            y_pred.append(val_pred)\n",
    "            y_true.append(labels)\n",
    "\n",
    "            \n",
    "            \n",
    "            val_cor = (val_pred == labels).sum().item()\n",
    "            val_tot_correct += val_cor\n",
    "            val_tot_samples += labels.size(0)\n",
    "            \n",
    "            val_loss = criterion(val_outputs, labels.unsqueeze(1).float())\n",
    "\n",
    "    val_acc = 100 * val_tot_correct / val_tot_samples\n",
    "    valid_acc.append(val_acc)\n",
    "    valid_loss.append(val_loss.item())\n",
    "    print(f'val_loss {val_loss: .4f}, Val_Accuracy {val_acc: .2f}%')\n",
    "    # print(\"lr: \", optimizer.param_groups[0]['lr'])\n",
    "    # scheduler.step()"
   ]
  },
  {
   "cell_type": "code",
   "execution_count": 14,
   "id": "af0779d5-a19e-499e-b471-d583dd53300c",
   "metadata": {},
   "outputs": [
    {
     "data": {
      "image/png": "[encoded data removed]",
      "text/plain": [
       "<Figure size 640x480 with 2 Axes>"
      ]
     },
     "metadata": {},
     "output_type": "display_data"
    }
   ],
   "source": [
    "y_pred_tensor = torch.cat(y_pred).to('cpu')\n",
    "y_true_tensor = torch.cat(y_true).to('cpu')\n",
    "\n",
    "label_mapping = {'Normal': 0, 'ASMI': 1}\n",
    "\n",
    "y_pred_numpy = y_pred_tensor.numpy()\n",
    "y_true_numpy = y_true_tensor.numpy()\n",
    "\n",
    "cm = confusion_matrix(y_true_numpy, y_pred_numpy)\n",
    "\n",
    "disp = ConfusionMatrixDisplay(confusion_matrix=cm, display_labels=['Normal', 'ASMI'])\n",
    "\n",
    "# True label 파랑색으로 설정\n",
    "disp.plot(include_values=True, cmap='Blues', xticks_rotation='horizontal', values_format='d')\n",
    "plt.show()"
   ]
  },
  {
   "cell_type": "code",
   "execution_count": null,
   "id": "36ee82e3-57c4-4325-bd8e-0b4ae7a4935d",
   "metadata": {},
   "outputs": [],
   "source": []
  },
  {
   "cell_type": "code",
   "execution_count": null,
   "id": "63f012ee-dbba-4425-87dd-6bf64f6b72e7",
   "metadata": {},
   "outputs": [],
   "source": []
  },
  {
   "cell_type": "code",
   "execution_count": null,
   "id": "64802924-0eb7-4475-a36a-58217ee06090",
   "metadata": {},
   "outputs": [],
   "source": []
  }
 ],
 "metadata": {
  "kernelspec": {
   "display_name": "lab",
   "language": "python",
   "name": "jyp"
  },
  "language_info": {
   "codemirror_mode": {
    "name": "ipython",
    "version": 3
   },
   "file_extension": ".py",
   "mimetype": "text/x-python",
   "name": "python",
   "nbconvert_exporter": "python",
   "pygments_lexer": "ipython3",
   "version": "3.9.18"
  }
 },
 "nbformat": 4,
 "nbformat_minor": 5
}
